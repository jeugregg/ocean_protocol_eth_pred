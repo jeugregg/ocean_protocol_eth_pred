{
 "cells": [
  {
   "attachments": {},
   "cell_type": "markdown",
   "metadata": {},
   "source": [
    "# End-to-end example: Compare models, direct prediction"
   ]
  },
  {
   "cell_type": "code",
   "execution_count": 1,
   "metadata": {},
   "outputs": [],
   "source": [
    "import ccxt\n",
    "import pandas as pd\n",
    "import numpy as np\n",
    "import requests\n",
    "from sklearn.multioutput import RegressorChain\n",
    "from tensorflow import keras\n",
    "from tensorflow.keras import Sequential, Model\n",
    "from tensorflow.keras.layers import Input, Dense\n",
    "import numpy as np\n",
    "import matplotlib.pyplot as plt\n",
    "# import libs helpers\n",
    "from helpers.ocean_helpers import calc_nmse "
   ]
  },
  {
   "cell_type": "code",
   "execution_count": 2,
   "metadata": {},
   "outputs": [],
   "source": [
    "\n",
    "cex_x = ccxt.binance().fetch_ohlcv('ETH/USDT', '1h')\n",
    "\n",
    "# create a Data Frame with two columns [date,eth-prices] with dates given in intervals of 1-hour\n",
    "import pandas as pd\n",
    "data = pd.DataFrame(cex_x, columns=['date', 'open', 'max', 'min', 'close', 'volume'])\n",
    "data['date'] = pd.to_datetime(data['date'],unit='ms')\n",
    "\n",
    "# Divide the data in training and testing set. Because the data has temporal structure, we split the data in two blocks, vs. selecting randomly.\n",
    "# 90% of the data is used for training and 10 is used for testing\n",
    "train_rate = 0.9\n",
    "n = data.shape[0]\n",
    "ntrain = int(np.floor(n*train_rate))\n",
    "train_data = data.iloc[0:ntrain,:]\n",
    "test_data = data.iloc[ntrain:,:]\n",
    "\n",
    "# Create feature vectors\n",
    "# - Define how many samples in the past are used to predict future values. \n",
    "# - This also defines the number of smaples to be predicted in the future.\n",
    "max_lag = 12 \n",
    "\n",
    "# Create feature vectors with 12 columns, each representing a time-lag from the current time point\n",
    "# - That is: x(t-1), x(t-2)...x(t-12) for close and open values (different features could be grouped using the same logic)\n",
    "full_train_close = pd.concat([train_data['close'].shift(i) for i in range(0,max_lag)],axis=1).dropna().values\n",
    "full_train_open = pd.concat([train_data['open'].shift(i) for i in range(0,max_lag)],axis=1).dropna().values\n",
    "# targets are multivariate, with the values of eth from 1 - 12 hours ahead of the curent time\n",
    "y_train = full_train_close[max_lag:,:]\n",
    "# train set is lagged with respect to the targets\n",
    "x_train = np.concatenate((full_train_close[0:-max_lag,:],full_train_open[0:-max_lag,:]),axis=1)\n",
    "\n",
    "# Repeat the feature vector creation as above for the test set\n",
    "full_test_close = pd.concat([test_data['close'].shift(i) for i in range(0,max_lag)],axis=1).dropna().values\n",
    "full_test_open = pd.concat([test_data['open'].shift(i) for i in range(0,max_lag)],axis=1).dropna().values\n",
    "y_test = full_test_close[max_lag:,:]\n",
    "x_test = np.concatenate((full_test_close[0:-max_lag,:],full_test_open[0:-max_lag,:]),axis=1)"
   ]
  },
  {
   "cell_type": "code",
   "execution_count": 6,
   "metadata": {},
   "outputs": [
    {
     "data": {
      "text/plain": [
       "500"
      ]
     },
     "execution_count": 6,
     "metadata": {},
     "output_type": "execute_result"
    }
   ],
   "source": [
    "n"
   ]
  },
  {
   "cell_type": "code",
   "execution_count": 3,
   "metadata": {},
   "outputs": [
    {
     "data": {
      "text/html": [
       "<div>\n",
       "<style scoped>\n",
       "    .dataframe tbody tr th:only-of-type {\n",
       "        vertical-align: middle;\n",
       "    }\n",
       "\n",
       "    .dataframe tbody tr th {\n",
       "        vertical-align: top;\n",
       "    }\n",
       "\n",
       "    .dataframe thead th {\n",
       "        text-align: right;\n",
       "    }\n",
       "</style>\n",
       "<table border=\"1\" class=\"dataframe\">\n",
       "  <thead>\n",
       "    <tr style=\"text-align: right;\">\n",
       "      <th></th>\n",
       "      <th>date</th>\n",
       "      <th>open</th>\n",
       "      <th>max</th>\n",
       "      <th>min</th>\n",
       "      <th>close</th>\n",
       "      <th>volume</th>\n",
       "    </tr>\n",
       "  </thead>\n",
       "  <tbody>\n",
       "    <tr>\n",
       "      <th>0</th>\n",
       "      <td>2023-01-18 22:00:00</td>\n",
       "      <td>1528.46</td>\n",
       "      <td>1531.67</td>\n",
       "      <td>1517.39</td>\n",
       "      <td>1531.38</td>\n",
       "      <td>12766.0369</td>\n",
       "    </tr>\n",
       "    <tr>\n",
       "      <th>1</th>\n",
       "      <td>2023-01-18 23:00:00</td>\n",
       "      <td>1531.39</td>\n",
       "      <td>1533.28</td>\n",
       "      <td>1507.90</td>\n",
       "      <td>1511.43</td>\n",
       "      <td>21837.7252</td>\n",
       "    </tr>\n",
       "    <tr>\n",
       "      <th>2</th>\n",
       "      <td>2023-01-19 00:00:00</td>\n",
       "      <td>1511.44</td>\n",
       "      <td>1523.25</td>\n",
       "      <td>1509.15</td>\n",
       "      <td>1516.26</td>\n",
       "      <td>18982.5522</td>\n",
       "    </tr>\n",
       "    <tr>\n",
       "      <th>3</th>\n",
       "      <td>2023-01-19 01:00:00</td>\n",
       "      <td>1516.25</td>\n",
       "      <td>1523.80</td>\n",
       "      <td>1515.51</td>\n",
       "      <td>1518.14</td>\n",
       "      <td>9312.9368</td>\n",
       "    </tr>\n",
       "    <tr>\n",
       "      <th>4</th>\n",
       "      <td>2023-01-19 02:00:00</td>\n",
       "      <td>1518.15</td>\n",
       "      <td>1526.38</td>\n",
       "      <td>1513.91</td>\n",
       "      <td>1525.07</td>\n",
       "      <td>9716.0774</td>\n",
       "    </tr>\n",
       "    <tr>\n",
       "      <th>...</th>\n",
       "      <td>...</td>\n",
       "      <td>...</td>\n",
       "      <td>...</td>\n",
       "      <td>...</td>\n",
       "      <td>...</td>\n",
       "      <td>...</td>\n",
       "    </tr>\n",
       "    <tr>\n",
       "      <th>495</th>\n",
       "      <td>2023-02-08 13:00:00</td>\n",
       "      <td>1671.90</td>\n",
       "      <td>1676.44</td>\n",
       "      <td>1668.30</td>\n",
       "      <td>1674.64</td>\n",
       "      <td>18216.3982</td>\n",
       "    </tr>\n",
       "    <tr>\n",
       "      <th>496</th>\n",
       "      <td>2023-02-08 14:00:00</td>\n",
       "      <td>1674.64</td>\n",
       "      <td>1681.98</td>\n",
       "      <td>1661.68</td>\n",
       "      <td>1671.28</td>\n",
       "      <td>31971.2240</td>\n",
       "    </tr>\n",
       "    <tr>\n",
       "      <th>497</th>\n",
       "      <td>2023-02-08 15:00:00</td>\n",
       "      <td>1671.28</td>\n",
       "      <td>1671.29</td>\n",
       "      <td>1649.51</td>\n",
       "      <td>1653.08</td>\n",
       "      <td>40209.5068</td>\n",
       "    </tr>\n",
       "    <tr>\n",
       "      <th>498</th>\n",
       "      <td>2023-02-08 16:00:00</td>\n",
       "      <td>1653.08</td>\n",
       "      <td>1654.85</td>\n",
       "      <td>1630.47</td>\n",
       "      <td>1653.47</td>\n",
       "      <td>55209.7895</td>\n",
       "    </tr>\n",
       "    <tr>\n",
       "      <th>499</th>\n",
       "      <td>2023-02-08 17:00:00</td>\n",
       "      <td>1653.47</td>\n",
       "      <td>1660.00</td>\n",
       "      <td>1647.37</td>\n",
       "      <td>1650.51</td>\n",
       "      <td>17338.8772</td>\n",
       "    </tr>\n",
       "  </tbody>\n",
       "</table>\n",
       "<p>500 rows × 6 columns</p>\n",
       "</div>"
      ],
      "text/plain": [
       "                   date     open      max      min    close      volume\n",
       "0   2023-01-18 22:00:00  1528.46  1531.67  1517.39  1531.38  12766.0369\n",
       "1   2023-01-18 23:00:00  1531.39  1533.28  1507.90  1511.43  21837.7252\n",
       "2   2023-01-19 00:00:00  1511.44  1523.25  1509.15  1516.26  18982.5522\n",
       "3   2023-01-19 01:00:00  1516.25  1523.80  1515.51  1518.14   9312.9368\n",
       "4   2023-01-19 02:00:00  1518.15  1526.38  1513.91  1525.07   9716.0774\n",
       "..                  ...      ...      ...      ...      ...         ...\n",
       "495 2023-02-08 13:00:00  1671.90  1676.44  1668.30  1674.64  18216.3982\n",
       "496 2023-02-08 14:00:00  1674.64  1681.98  1661.68  1671.28  31971.2240\n",
       "497 2023-02-08 15:00:00  1671.28  1671.29  1649.51  1653.08  40209.5068\n",
       "498 2023-02-08 16:00:00  1653.08  1654.85  1630.47  1653.47  55209.7895\n",
       "499 2023-02-08 17:00:00  1653.47  1660.00  1647.37  1650.51  17338.8772\n",
       "\n",
       "[500 rows x 6 columns]"
      ]
     },
     "execution_count": 3,
     "metadata": {},
     "output_type": "execute_result"
    }
   ],
   "source": [
    "data"
   ]
  },
  {
   "cell_type": "code",
   "execution_count": 5,
   "metadata": {},
   "outputs": [
    {
     "name": "stdout",
     "output_type": "stream",
     "text": [
      "Metal device set to: Apple M1 Pro\n",
      "\n",
      "systemMemory: 32.00 GB\n",
      "maxCacheSize: 10.67 GB\n",
      "\n"
     ]
    },
    {
     "name": "stderr",
     "output_type": "stream",
     "text": [
      "2023-02-08 11:19:11.654678: I tensorflow/core/common_runtime/pluggable_device/pluggable_device_factory.cc:305] Could not identify NUMA node of platform GPU ID 0, defaulting to 0. Your kernel may not have been built with NUMA support.\n",
      "2023-02-08 11:19:11.655315: I tensorflow/core/common_runtime/pluggable_device/pluggable_device_factory.cc:271] Created TensorFlow device (/job:localhost/replica:0/task:0/device:GPU:0 with 0 MB memory) -> physical PluggableDevice (device: 0, name: METAL, pci bus id: <undefined>)\n",
      "2023-02-08 11:19:11.920700: W tensorflow/core/platform/profile_utils/cpu_utils.cc:128] Failed to get CPU frequency: 0 Hz\n",
      "2023-02-08 11:19:12.211775: I tensorflow/core/grappler/optimizers/custom_graph_optimizer_registry.cc:113] Plugin optimizer for device_type GPU is enabled.\n",
      "2023-02-08 11:19:12.964424: I tensorflow/core/grappler/optimizers/custom_graph_optimizer_registry.cc:113] Plugin optimizer for device_type GPU is enabled.\n"
     ]
    },
    {
     "name": "stdout",
     "output_type": "stream",
     "text": [
      "1/1 [==============================] - 0s 45ms/step\n"
     ]
    },
    {
     "name": "stderr",
     "output_type": "stream",
     "text": [
      "2023-02-08 11:19:29.419637: I tensorflow/core/grappler/optimizers/custom_graph_optimizer_registry.cc:113] Plugin optimizer for device_type GPU is enabled.\n"
     ]
    },
    {
     "data": {
      "image/png": "[encoded data removed]",
      "text/plain": [
       "<Figure size 1000x500 with 1 Axes>"
      ]
     },
     "metadata": {},
     "output_type": "display_data"
    }
   ],
   "source": [
    "# Create models\n",
    "\n",
    "\n",
    "# regression using a base estimator and RegressionChain\n",
    "def fit_and_predict_reg(base_model,x_train,y_train,x_test,y_test):\n",
    "  chain = RegressorChain(base_estimator=base_model).fit(x_train, y_train)  \n",
    "  yhat_test = chain.predict(x_test)\n",
    "  return calc_nmse(y_test,yhat_test)\n",
    "\n",
    "# Neural network using Keras, 2 hidden layers with RELU activations, output layer with linear activations \n",
    "def fit_andpredict_fcnn(x_train,y_train,x_test,y_test):\n",
    "  inputs = Input(shape=(x_train.shape[1],))\n",
    "  x = Dense(128,activation='relu')(inputs)\n",
    "  x = Dense(64,activation='relu')(x)\n",
    "  outputs = Dense(12,activation='linear')(x)\n",
    "  model = Model(inputs=inputs,outputs=outputs)\n",
    "  # set compiling parameters\n",
    "  model.compile( optimizer=\"adam\", loss='mean_absolute_percentage_error',metrics=[])\n",
    "  # Fit model\n",
    "  model.fit(x_train,y_train,batch_size=100, epochs=500, validation_split=0.1, verbose=0)\n",
    "  # predict\n",
    "  yhat_test = model.predict(x_test)\n",
    "  return calc_nmse(y_test,yhat_test)\n",
    "\n",
    "# multi-output linear regression\n",
    "from sklearn.linear_model import LinearRegression \n",
    "linreg = LinearRegression()\n",
    "linreg_error = fit_and_predict_reg(linreg,x_train,y_train,x_test,y_test)\n",
    "\n",
    "# multi-output random forest regression\n",
    "from sklearn.ensemble import RandomForestRegressor\n",
    "from sklearn.datasets import make_regression\n",
    "rfr = RandomForestRegressor(max_depth=10)\n",
    "rfr_error = fit_and_predict_reg(rfr,x_train,y_train,x_test,y_test)\n",
    "\n",
    "# multi-output support vector machines\n",
    "from sklearn.svm import SVR\n",
    "svr = SVR(kernel='rbf', C=1000, epsilon=.1)\n",
    "svr_error = fit_and_predict_reg(svr,x_train,y_train,x_test,y_test)\n",
    "\n",
    "# Dense NN\n",
    "dnn_error = fit_andpredict_fcnn(x_train,y_train,x_test,y_test)\n",
    "\n",
    "\n",
    "# Plot results\n",
    "\n",
    "info = {'LR':linreg_error, 'RFR':rfr_error, 'SVR':svr_error,'NN':dnn_error}\n",
    "methods = list(info.keys())\n",
    "values = list(info.values())\n",
    "  \n",
    "fig = plt.figure(figsize = (10, 5))\n",
    " \n",
    "# creating the bar plot\n",
    "plt.bar(methods, values, color ='maroon', width = 0.4)\n",
    " \n",
    "plt.xlabel(\"Methods\")\n",
    "plt.ylabel(\"NMSE\")\n",
    "plt.title(\"Comparison of different methods for predicting ETH value 1-12 hours ahead\")\n",
    "plt.show()"
   ]
  },
  {
   "cell_type": "markdown",
   "metadata": {},
   "source": []
  }
 ],
 "metadata": {
  "kernelspec": {
   "display_name": "ocean_tf",
   "language": "python",
   "name": "python3"
  },
  "language_info": {
   "codemirror_mode": {
    "name": "ipython",
    "version": 3
   },
   "file_extension": ".py",
   "mimetype": "text/x-python",
   "name": "python",
   "nbconvert_exporter": "python",
   "pygments_lexer": "ipython3",
   "version": "3.10.4"
  },
  "orig_nbformat": 4,
  "vscode": {
   "interpreter": {
    "hash": "622fbdc46093ceebca2707ee83e548aa7e8e72b315685cead53b17c59e715f82"
   }
  }
 },
 "nbformat": 4,
 "nbformat_minor": 2
}
